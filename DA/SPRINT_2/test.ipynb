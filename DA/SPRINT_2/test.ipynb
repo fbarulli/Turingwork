{
 "cells": [
  {
   "cell_type": "code",
   "execution_count": 3,
   "metadata": {},
   "outputs": [],
   "source": [
    "import seaborn as sns\n",
    "from datetime import datetime\n",
    "import pandas as pd\n",
    "from scipy.stats import anderson, shapiro, pearsonr, mannwhitneyu\n",
    "from sklearn.utils import shuffle\n",
    "from scipy import stats\n",
    "\n",
    "import numpy as np\n",
    "import sqlite3\n",
    "from matplotlib import pyplot as plt\n",
    "pd.set_option('display.max_rows', 500)\n",
    "pd.set_option('display.max_columns', 500)\n",
    "pd.set_option('display.width', 1000)"
   ]
  },
  {
   "cell_type": "code",
   "execution_count": 4,
   "metadata": {},
   "outputs": [
    {
     "name": "stderr",
     "output_type": "stream",
     "text": [
      "/var/folders/k1/1bd5lx_d219gy8hl39z8vwx80000gn/T/ipykernel_27469/3244378186.py:33: SettingWithCopyWarning: \n",
      "A value is trying to be set on a copy of a slice from a DataFrame.\n",
      "Try using .loc[row_indexer,col_indexer] = value instead\n",
      "\n",
      "See the caveats in the documentation: https://pandas.pydata.org/pandas-docs/stable/user_guide/indexing.html#returning-a-view-versus-a-copy\n",
      "  bot_free_df['year'] = bot_free_df['created_at'].dt.year\n"
     ]
    }
   ],
   "source": [
    "table_df = \"/Users/mimi/Desktop/PYTHON/TURING/HOME/DA/SPRINT_2/DATA/database.sqlite\"\n",
    "conn = sqlite3.connect(table_df)\n",
    "\n",
    "podcast = pd.read_sql(\"\"\"\n",
    "                    SELECT slug, title, podcast_id\n",
    "                    FROM podcasts\n",
    "                    \"\"\", conn)\n",
    "\n",
    "categories = pd.read_sql(\"\"\"\n",
    "                        SELECT * \n",
    "                        FROM categories\n",
    "                        \"\"\", conn)\n",
    "\n",
    "\n",
    "reviews =  pd.read_sql(\"\"\"\n",
    "                        SELECT podcast_id, title, author_id, created_at, rating\n",
    "                        FROM reviews\n",
    "                        \"\"\", conn)\n",
    "reviews.drop(reviews.index[1136903], inplace=True)\n",
    "#reviews['created_at'] = reviews['created_at'].map(lambda x: x.split(\"T\")[0])\n",
    "\n",
    "categories['category'] = categories['category'].map(lambda x: x.split(\"-\")[0])\n",
    "categories['category'] = categories.replace({'category' : {'buddhism':'spirituality', 'christianity':'spirituality', 'hinduism':'spirituality', 'islam':'spirituality', 'judaism':'spirituality', 'religion':'spirituality'}})['category']\n",
    "categories['category'] = categories.replace({'category' : {\"news\":'tv', \"technology\":'science'}})['category']\n",
    "reviews['created_at'] = pd.to_datetime(reviews['created_at'])\n",
    "all_ = pd.merge(reviews, categories, on='podcast_id')\n",
    "all_df = pd.merge(all_, podcast, on='podcast_id')\n",
    "#all_df.drop_duplicates(subset=['author_id'], inplace=True)\n",
    "all_df['year'] = all_df['created_at'].dt.year\n",
    "group_count_df = all_df.groupby(['author_id', 'created_at', 'title_x']).agg({'slug':'count'})\n",
    "bots_id = group_count_df[group_count_df['slug'] > 1].reset_index()['author_id'].unique()\n",
    "bot_free_df = all_df[~all_df['author_id'].isin(bots_id)]\n",
    "bot_free_df['year'] = bot_free_df['created_at'].dt.year\n",
    "\n",
    "\n",
    "\n",
    "\n",
    "author_id_df = bot_free_df[['author_id', 'rating', 'year']].value_counts().to_frame().reset_index()\n",
    "\n",
    "\n",
    "author_id_df = author_id_df.groupby(['year', 'author_id']).count().reset_index()\n",
    "\n",
    "mask = author_id_df[author_id_df['year'] == 2019]['author_id'].isin(author_id_df[author_id_df['year'] == 2020]['author_id'])\n",
    "\n",
    "\n",
    "year_2020 = all_df[all_df[\"author_id\"].isin(all_df['author_id'][mask[mask == True].index].values)]\n",
    "year_2020 = year_2020[year_2020['year'] == 2020][['author_id', 'rating']]\n",
    "\n",
    "\n",
    "year_2019 = all_df[all_df[\"author_id\"].isin(all_df['author_id'][mask[mask == True].index].values)]\n",
    "year_2019 = year_2019[year_2019['year'] == 2019][['author_id', 'rating']]\n",
    "\n",
    "\n",
    "\n",
    "author_id_df = bot_free_df[['author_id', 'rating', 'year']].value_counts().to_frame().reset_index()\n",
    "\n",
    "\n",
    "author_id_df = author_id_df.groupby(['year', 'author_id']).count().reset_index()\n",
    "\n",
    "mask = author_id_df[author_id_df['year'] == 2019]['author_id'].isin(author_id_df[author_id_df['year'] == 2020]['author_id'])\n",
    "\n",
    "\n",
    "year_2020 = all_df[all_df[\"author_id\"].isin(all_df['author_id'][mask[mask == True].index].values)]\n",
    "year_2020 = year_2020[year_2020['year'] == 2020][['author_id', 'rating']]\n",
    "\n",
    "\n",
    "year_2019 = all_df[all_df[\"author_id\"].isin(all_df['author_id'][mask[mask == True].index].values)]\n",
    "year_2019 = year_2019[year_2019['year'] == 2019][['author_id', 'rating']]\n"
   ]
  },
  {
   "cell_type": "code",
   "execution_count": null,
   "metadata": {},
   "outputs": [],
   "source": [
    "mask = df['product_name'] == 'Coca Cola'\n",
    "\n",
    "# select all rows except the ones that contain 'Coca Cola'\n",
    "df = df[~mask]\n",
    "\n",
    "# print the resulting DataFrame\n",
    "print(df)\n"
   ]
  },
  {
   "cell_type": "code",
   "execution_count": 56,
   "metadata": {},
   "outputs": [
    {
     "name": "stderr",
     "output_type": "stream",
     "text": [
      "/var/folders/k1/1bd5lx_d219gy8hl39z8vwx80000gn/T/ipykernel_27469/3868141737.py:1: SettingWithCopyWarning: \n",
      "A value is trying to be set on a copy of a slice from a DataFrame\n",
      "\n",
      "See the caveats in the documentation: https://pandas.pydata.org/pandas-docs/stable/user_guide/indexing.html#returning-a-view-versus-a-copy\n",
      "  bot_free_df.drop(bot_free_df.iloc[[175352, 175353]].index, inplace=True)\n"
     ]
    }
   ],
   "source": [
    "bot_free_df.drop(bot_free_df.iloc[[175352, 175353]].index, inplace=True)"
   ]
  },
  {
   "cell_type": "code",
   "execution_count": 64,
   "metadata": {},
   "outputs": [
    {
     "data": {
      "text/html": [
       "<div>\n",
       "<style scoped>\n",
       "    .dataframe tbody tr th:only-of-type {\n",
       "        vertical-align: middle;\n",
       "    }\n",
       "\n",
       "    .dataframe tbody tr th {\n",
       "        vertical-align: top;\n",
       "    }\n",
       "\n",
       "    .dataframe thead th {\n",
       "        text-align: right;\n",
       "    }\n",
       "</style>\n",
       "<table border=\"1\" class=\"dataframe\">\n",
       "  <thead>\n",
       "    <tr style=\"text-align: right;\">\n",
       "      <th></th>\n",
       "      <th>podcast_id</th>\n",
       "      <th>title_x</th>\n",
       "      <th>author_id</th>\n",
       "      <th>created_at</th>\n",
       "      <th>rating</th>\n",
       "      <th>category</th>\n",
       "      <th>slug</th>\n",
       "      <th>title_y</th>\n",
       "      <th>year</th>\n",
       "    </tr>\n",
       "  </thead>\n",
       "  <tbody>\n",
       "    <tr>\n",
       "      <th>2495367</th>\n",
       "      <td>adcda062050d5f5f2a83448967c4b75a</td>\n",
       "      <td>Great Ep! And Guest Host!</td>\n",
       "      <td>66741F4E3E17A0A</td>\n",
       "      <td>2013-08-16 09:27:14-07:00</td>\n",
       "      <td>5</td>\n",
       "      <td>tv</td>\n",
       "      <td>retro-rewind-podcast</td>\n",
       "      <td>Retro Rewind Podcast</td>\n",
       "      <td>2013</td>\n",
       "    </tr>\n",
       "    <tr>\n",
       "      <th>2495368</th>\n",
       "      <td>adcda062050d5f5f2a83448967c4b75a</td>\n",
       "      <td>Radical</td>\n",
       "      <td>F28A55DD7CCEB21</td>\n",
       "      <td>2013-10-15 07:10:37-07:00</td>\n",
       "      <td>5</td>\n",
       "      <td>tv</td>\n",
       "      <td>retro-rewind-podcast</td>\n",
       "      <td>Retro Rewind Podcast</td>\n",
       "      <td>2013</td>\n",
       "    </tr>\n",
       "  </tbody>\n",
       "</table>\n",
       "</div>"
      ],
      "text/plain": [
       "                               podcast_id                    title_x        author_id                created_at  rating category                  slug               title_y  year\n",
       "2495367  adcda062050d5f5f2a83448967c4b75a  Great Ep! And Guest Host!  66741F4E3E17A0A 2013-08-16 09:27:14-07:00       5       tv  retro-rewind-podcast  Retro Rewind Podcast  2013\n",
       "2495368  adcda062050d5f5f2a83448967c4b75a                    Radical  F28A55DD7CCEB21 2013-10-15 07:10:37-07:00       5       tv  retro-rewind-podcast  Retro Rewind Podcast  2013"
      ]
     },
     "execution_count": 64,
     "metadata": {},
     "output_type": "execute_result"
    }
   ],
   "source": [
    "bot_free_df.iloc[[175352, 175353]]"
   ]
  },
  {
   "cell_type": "code",
   "execution_count": 62,
   "metadata": {},
   "outputs": [],
   "source": [
    "bot_free_df.to_csv(\"bot_free.csv\", sep=str(','), index=False)\n"
   ]
  },
  {
   "cell_type": "code",
   "execution_count": 66,
   "metadata": {},
   "outputs": [],
   "source": [
    "bot_free_df[['author_id', 'created_at', 'rating', 'year']].to_csv(\"bot_free.csv\", sep=str(','), index=False)"
   ]
  },
  {
   "cell_type": "code",
   "execution_count": 63,
   "metadata": {},
   "outputs": [
    {
     "name": "stderr",
     "output_type": "stream",
     "text": [
      "/var/folders/k1/1bd5lx_d219gy8hl39z8vwx80000gn/T/ipykernel_27469/316388515.py:1: SettingWithCopyWarning: \n",
      "A value is trying to be set on a copy of a slice from a DataFrame\n",
      "\n",
      "See the caveats in the documentation: https://pandas.pydata.org/pandas-docs/stable/user_guide/indexing.html#returning-a-view-versus-a-copy\n",
      "  bot_free_df[['author_id', 'created_at', 'rating', 'year']].drop(bot_free_df.iloc[[175352, 175353]].index, inplace=True)\n"
     ]
    }
   ],
   "source": [
    "bot_free_df[['author_id', 'created_at', 'rating', 'year']].drop(bot_free_df.iloc[[175352, 175353]].index, inplace=True)"
   ]
  },
  {
   "cell_type": "code",
   "execution_count": null,
   "metadata": {},
   "outputs": [],
   "source": [
    "'[175352, 175353] not found in axis'"
   ]
  },
  {
   "cell_type": "markdown",
   "metadata": {},
   "source": [
    "### After inspection, even with the skewness, Non-Gaussian, and independence, a Two Sided Mann-Whiteney U test is appropriate <br>\n",
    "\n",
    "The Mann-Whitney U test has fewer assumptions, but it does have its own set of requirements:\n",
    "\n",
    "Independent Samples:\n",
    "The observations in one sample should be independent of the observations in the other sample. \n",
    "\n",
    "Ordinal Data:\n",
    "The Mann-Whitney U test is suitable for ordinal or continuous data. It does not assume a specific distribution of the data, making it robust to deviations from normality.\n",
    "\n",
    "Random Sampling:\n",
    "The data should be collected through a random sampling process to ensure that the results can be generalized to the larger population.\n",
    "\n",
    "Similar Shapes of Distributions:\n",
    "While the Mann-Whitney U test is robust to differences in the shapes of the distributions, it is more powerful when the shapes of the distributions are similar.\n",
    "\n",
    "Equal Variances:\n",
    "The Mann-Whitney U test does not assume equal variances between the two groups. This makes it applicable when the assumption of homogeneity of variances for the t-test is violated."
   ]
  },
  {
   "cell_type": "code",
   "execution_count": 35,
   "metadata": {},
   "outputs": [],
   "source": [
    "np.random.seed(42)\n",
    "data1 = year_2020['rating'][:len(year_2019['rating'])].values\n",
    "data2 = year_2019['rating'].values\n",
    "\n",
    "np.random.shuffle(data1)\n",
    "np.random.shuffle(data2)\n",
    "\n",
    "\n",
    "sample_size = 2000  # Choose the desired sample size\n",
    "data1 = np.random.choice(data1, size=sample_size, replace=False)\n",
    "data2 = np.random.choice(data2, size=sample_size, replace=False)\n"
   ]
  },
  {
   "cell_type": "code",
   "execution_count": 36,
   "metadata": {},
   "outputs": [
    {
     "name": "stdout",
     "output_type": "stream",
     "text": [
      "p value:0.0046\n",
      "Reject null hypothesis >> The variances of the samples are different.\n"
     ]
    }
   ],
   "source": [
    "test_stat_var, p_value_var= stats.levene(data1,data2)\n",
    "print(\"p value:%.4f\" % p_value_var)\n",
    "if p_value_var <0.05:\n",
    "    print(\"Reject null hypothesis >> The variances of the samples are different.\")\n",
    "else:\n",
    "    print(\"Fail to reject null hypothesis >> The variances of the samples are same.\")"
   ]
  },
  {
   "cell_type": "code",
   "execution_count": 37,
   "metadata": {},
   "outputs": [
    {
     "name": "stdout",
     "output_type": "stream",
     "text": [
      "stat=0.435, p=0.435\n",
      "Probably not Gaussian\n"
     ]
    }
   ],
   "source": [
    "stat, p = shapiro(data1)\n",
    "print('stat={0:.3f}, p={0:.3f}' .format(stat, p))\n",
    "if p > 0.05:\n",
    "    print('Probably Gaussian')\n",
    "else:\n",
    "    print('Probably not Gaussian')"
   ]
  },
  {
   "cell_type": "code",
   "execution_count": 38,
   "metadata": {},
   "outputs": [
    {
     "name": "stdout",
     "output_type": "stream",
     "text": [
      "stat=0.393, p=0.393\n",
      "Probably not Gaussian\n"
     ]
    }
   ],
   "source": [
    "stat, p = shapiro(data2)\n",
    "print('stat={0:.3f}, p={0:.3f}' .format(stat, p))\n",
    "if p > 0.05:\n",
    "    print('Probably Gaussian')\n",
    "else:\n",
    "    print('Probably not Gaussian')"
   ]
  },
  {
   "cell_type": "code",
   "execution_count": 39,
   "metadata": {},
   "outputs": [
    {
     "name": "stdout",
     "output_type": "stream",
     "text": [
      "stat=531\n",
      "Probably not Gaussian at the 15.0% level\n",
      "Probably not Gaussian at the 10.0% level\n",
      "Probably not Gaussian at the 5.0% level\n",
      "Probably not Gaussian at the 2.5% level\n",
      "Probably not Gaussian at the 1.0% level\n"
     ]
    }
   ],
   "source": [
    "from scipy.stats import anderson\n",
    "\n",
    "result = anderson(data1)\n",
    "print('stat={0:.3g}'.format(result.statistic))\n",
    "for i in range(len(result.critical_values)):\n",
    "    sl, cv = result.significance_level[i], result.critical_values[i]\n",
    "    if result.statistic < cv:\n",
    "        print('Probably Gaussian at the %.1f%% level' % (sl))\n",
    "    else:\n",
    "        print('Probably not Gaussian at the %.1f%% level' % (sl))\n"
   ]
  },
  {
   "cell_type": "code",
   "execution_count": 40,
   "metadata": {},
   "outputs": [
    {
     "name": "stdout",
     "output_type": "stream",
     "text": [
      "stat=568\n",
      "Probably not Gaussian at the 15.0% level\n",
      "Probably not Gaussian at the 10.0% level\n",
      "Probably not Gaussian at the 5.0% level\n",
      "Probably not Gaussian at the 2.5% level\n",
      "Probably not Gaussian at the 1.0% level\n"
     ]
    }
   ],
   "source": [
    "from scipy.stats import anderson\n",
    "\n",
    "result = anderson(data2)\n",
    "print('stat={0:.3g}'.format(result.statistic))\n",
    "for i in range(len(result.critical_values)):\n",
    "    sl, cv = result.significance_level[i], result.critical_values[i]\n",
    "    if result.statistic < cv:\n",
    "        print('Probably Gaussian at the %.1f%% level' % (sl))\n",
    "    else:\n",
    "        print('Probably not Gaussian at the %.1f%% level' % (sl))\n"
   ]
  },
  {
   "cell_type": "code",
   "execution_count": 41,
   "metadata": {},
   "outputs": [
    {
     "name": "stdout",
     "output_type": "stream",
     "text": [
      "stat=0.010, p=0.010\n",
      "Probably independent\n"
     ]
    }
   ],
   "source": [
    "from scipy.stats import pearsonr\n",
    "\n",
    "stat, p = pearsonr(data1, data2)\n",
    "print('stat={0:.3f}, p={0:.3f}'.format(stat, p))\n",
    "if p > 0.05:\n",
    "    print('Probably independent')\n",
    "else:\n",
    "    print('Probably dependent')"
   ]
  },
  {
   "cell_type": "code",
   "execution_count": 42,
   "metadata": {},
   "outputs": [
    {
     "name": "stdout",
     "output_type": "stream",
     "text": [
      "Data Type:\n",
      "data1: ordinal\n",
      "data2: ordinal\n"
     ]
    },
    {
     "data": {
      "image/png": "[encoded data removed]",
      "text/plain": [
       "<Figure size 1200x600 with 1 Axes>"
      ]
     },
     "metadata": {},
     "output_type": "display_data"
    }
   ],
   "source": [
    "\n",
    "\n",
    "print(\"Data Type:\")\n",
    "print(\"data1:\", \"ordinal\" if np.issubdtype(data1.dtype, np.integer) else \"continuous\")\n",
    "print(\"data2:\", \"ordinal\" if np.issubdtype(data2.dtype, np.integer) else \"continuous\")\n",
    "\n",
    "# 3. Random Sampling (no specific test, check documentation or source of data)\n",
    "# ... ensure that data was collected through a random sampling process\n",
    "\n",
    "# 4. Similar Shapes of Distributions (visual inspection)\n",
    "plt.figure(figsize=(12, 6))\n",
    "sns.histplot(data1, label='Data1', kde=True)\n",
    "sns.histplot(data2, label='Data2', kde=True)\n",
    "plt.legend()\n",
    "plt.title('Comparison of Distributions')\n",
    "plt.show()"
   ]
  },
  {
   "cell_type": "markdown",
   "metadata": {},
   "source": [
    "Null Hypothesis:\n",
    "here is no difference between the distributions of the two samples."
   ]
  },
  {
   "cell_type": "markdown",
   "metadata": {},
   "source": [
    "Alternative Hypothesis:\n",
    "There is a difference between the distributions of the two samples.\n",
    "\n"
   ]
  },
  {
   "cell_type": "code",
   "execution_count": 43,
   "metadata": {},
   "outputs": [
    {
     "name": "stdout",
     "output_type": "stream",
     "text": [
      "Mann-Whitney U test statistic: 1939623.5\n",
      "P-value: 0.007252766832955017\n",
      "There is a statistically significant difference.\n"
     ]
    }
   ],
   "source": [
    "from scipy.stats import mannwhitneyu\n",
    "\n",
    "# Assume 'group1' and 'group2' are your two independent groups\n",
    "statistic, p_value = mannwhitneyu(data1, data2)\n",
    "\n",
    "# Display results\n",
    "print(\"Mann-Whitney U test statistic:\", statistic)\n",
    "print(\"P-value:\", p_value)\n",
    "\n",
    "# Interpret the results\n",
    "if p_value < 0.01:\n",
    "    print(\"There is a statistically significant difference.\")\n",
    "else:\n",
    "    print(\"There is no statistically significant difference.\")"
   ]
  },
  {
   "cell_type": "markdown",
   "metadata": {},
   "source": [
    "The P-Value is smaller than Alpha. This suggests that there is evidence that the two samples come from populations with different distributions.\n",
    "\n",
    "We therefore reject the Null Hypothesis \n",
    "\n",
    "\n",
    "\n",
    "However, failing to reject H₀ does not mean H₀ is valid, nor does it mean H₁ is wrong."
   ]
  },
  {
   "cell_type": "code",
   "execution_count": 44,
   "metadata": {},
   "outputs": [
    {
     "data": {
      "image/png": "[encoded data removed]",
      "text/plain": [
       "<Figure size 1200x1000 with 1 Axes>"
      ]
     },
     "metadata": {},
     "output_type": "display_data"
    }
   ],
   "source": [
    "\n",
    "\n",
    "# Set the significance level (alpha)\n",
    "alpha = 0.05\n",
    "\n",
    "# Plotting\n",
    "plt.figure(figsize=(12, 10))\n",
    "\n",
    "# Shading based on the p-value\n",
    "if p_value < alpha / 2:\n",
    "    plt.fill_between(x=np.arange(-4, -2, 0.01),\n",
    "                     y1=stats.norm.pdf(np.arange(-4, -2, 0.01)),\n",
    "                     facecolor='red', alpha=0.35)\n",
    "    plt.fill_between(x=np.arange(2, 4, 0.01),\n",
    "                     y1=stats.norm.pdf(np.arange(2, 4, 0.01)),\n",
    "                     facecolor='red', alpha=0.5)\n",
    "elif p_value < alpha:\n",
    "    plt.fill_between(x=np.arange(2, 4, 0.01),\n",
    "                     y1=stats.norm.pdf(np.arange(2, 4, 0.01)),\n",
    "                     facecolor='red', alpha=0.5)\n",
    "\n",
    "plt.fill_between(x=np.arange(-2, 2, 0.01),\n",
    "                 y1=stats.norm.pdf(np.arange(-2, 2, 0.01)),\n",
    "                 facecolor='grey', alpha=0.35)\n",
    "\n",
    "plt.fill_between(x=np.arange(-4, -2, 0.01),\n",
    "                 y1=stats.norm.pdf(np.arange(-4, -2, 0.01), loc=3, scale=2),\n",
    "                 facecolor='grey', alpha=0.35)\n",
    "\n",
    "plt.fill_between(x=np.arange(-2, 2, 0.01),\n",
    "                 y1=stats.norm.pdf(np.arange(-2, 2, 0.01), loc=3, scale=2),\n",
    "                 facecolor='blue', alpha=0.35)\n",
    "\n",
    "plt.fill_between(x=np.arange(2, 10, 0.01),\n",
    "                 y1=stats.norm.pdf(np.arange(2, 10, 0.01), loc=3, scale=2),\n",
    "                 facecolor='grey', alpha=0.35)\n",
    "\n",
    "# Text annotations\n",
    "plt.text(x=-3.5, y=0.18, s=f\"t-statistic = {statistic:.2f}\", color='black')\n",
    "plt.text(x=-3.5, y=0.16, s=f\"p-value = {p_value:.4f}\", color='black')\n",
    "\n",
    "plt.text(x=-0.8, y=0.15, s=\"Null Hypothesis\")\n",
    "plt.text(x=2.5, y=0.13, s=\"Alternative\")\n",
    "plt.text(x=2.1, y=0.01, s=\"Type 1 Error\")\n",
    "plt.text(x=-3.2, y=0.01, s=\"Type 1 Error\")\n",
    "plt.text(x=0, y=0.02, s=\"Type 2 Error\")\n",
    "\n",
    "plt.show()"
   ]
  },
  {
   "cell_type": "code",
   "execution_count": null,
   "metadata": {},
   "outputs": [],
   "source": []
  },
  {
   "cell_type": "code",
   "execution_count": null,
   "metadata": {},
   "outputs": [],
   "source": []
  },
  {
   "cell_type": "code",
   "execution_count": 45,
   "metadata": {},
   "outputs": [
    {
     "data": {
      "text/plain": [
       "0.294956061112323"
      ]
     },
     "execution_count": 45,
     "metadata": {},
     "output_type": "execute_result"
    }
   ],
   "source": [
    "lower_quantile = stats.norm.ppf(0.025)  # Lower cutoff value\n",
    "upper_quantile = stats.norm.ppf(0.975)  # Upper cutoff value\n",
    "\n",
    "# Area under alternative, to the left the lower cutoff value\n",
    "low = stats.norm.cdf(lower_quantile,    \n",
    "                     loc=3,             \n",
    "                     scale=2)\n",
    "\n",
    "# Area under alternative, to the left the upper cutoff value\n",
    "high = stats.norm.cdf(upper_quantile, \n",
    "                      loc=3, \n",
    "                      scale=2)          \n",
    "\n",
    "# Area under the alternative, between the cutoffs (Type II error)\n",
    "high-low"
   ]
  },
  {
   "cell_type": "markdown",
   "metadata": {},
   "source": [
    "we'd fail to reject the null hypothesis about 30% of the time because the distributions are close enough together that they have significant overlap."
   ]
  },
  {
   "cell_type": "markdown",
   "metadata": {},
   "source": [
    "https://www.kaggle.com/code/shashwatwork/guide-to-statistical-hypothesis-tests-in-python"
   ]
  },
  {
   "cell_type": "markdown",
   "metadata": {},
   "source": [
    "https://towardsdatascience.com/hypothesis-testing-with-python-step-by-step-hands-on-tutorial-with-practical-examples-e805975ea96e"
   ]
  },
  {
   "cell_type": "markdown",
   "metadata": {},
   "source": [
    "https://www.kaggle.com/code/shashwatwork/guide-to-statistical-hypothesis-tests-in-python"
   ]
  },
  {
   "cell_type": "markdown",
   "metadata": {},
   "source": [
    "\n",
    "\n",
    "\n",
    "\n",
    "\n",
    "\n",
    "\n",
    "\n",
    "\n",
    "\n",
    "\n",
    "\n",
    "\n",
    "\n",
    "\n",
    "\n",
    "\n",
    "\n",
    "\n",
    "\n",
    "\n",
    "\n",
    "\n",
    "\n",
    "\n",
    "\n",
    "\n",
    "\n",
    "\n",
    "\n",
    "\n",
    "\n"
   ]
  }
 ],
 "metadata": {
  "kernelspec": {
   "display_name": "base",
   "language": "python",
   "name": "python3"
  },
  "language_info": {
   "codemirror_mode": {
    "name": "ipython",
    "version": 3
   },
   "file_extension": ".py",
   "mimetype": "text/x-python",
   "name": "python",
   "nbconvert_exporter": "python",
   "pygments_lexer": "ipython3",
   "version": "3.11.4"
  },
  "orig_nbformat": 4
 },
 "nbformat": 4,
 "nbformat_minor": 2
}
