{
 "cells": [
  {
   "cell_type": "markdown",
   "metadata": {},
   "source": [
    "# Too Much Commitment "
   ]
  },
  {
   "cell_type": "markdown",
   "metadata": {},
   "source": [
    "### For this project, We'll see how worse my mental health will be once I land a job in this lovely industry."
   ]
  },
  {
   "cell_type": "markdown",
   "metadata": {},
   "source": [
    "# Not So Interesting EDA"
   ]
  },
  {
   "cell_type": "code",
   "execution_count": 1,
   "metadata": {},
   "outputs": [],
   "source": [
    "\n",
    "import seaborn as sns\n",
    "import numpy as np\n",
    "import pandas as pd\n",
    "import sqlite3 \n",
    "import matplotlib.pyplot as plt\n",
    "from matplotlib.ticker import FormatStrFormatter\n",
    "import sklearn\n",
    "import pandas as pd\n",
    "import researchpy as rp\n",
    "import scipy.stats as stats\n",
    "\n",
    "\n",
    "DB_PATH = \"/Users/mimi/Desktop/PYTHON/TURING/HOME/M2/data/mental_health.sqlite\"\n",
    "conn = sqlite3.connect(DB_PATH)\n",
    "pd.set_option(\"display.max_columns\", None)\n",
    "pd.set_option(\"display.max_rows\", None)\n",
    "\n",
    "\n",
    "tech = pd.read_sql(\n",
    "    \"\"\"SELECT *\n",
    "    FROM Answer \n",
    "    WHERE UserID IN (SELECT UserID FROM Answer WHERE QuestionID IS 68 AND AnswerText IS 1)\"\"\",\n",
    "        conn)\n",
    "\n",
    "stigma_df =  pd.read_sql(\n",
    "    \"\"\" SELECT *\n",
    "        FROM Answer\n",
    "        WHERE QuestionID IN (\"12\", \"14\", \"15\", \"16\", \"17\")\n",
    "        AND AnswerText IS NOT \"-1\" \"\"\",\n",
    "        conn)\n",
    "productivity_df = pd.read_sql(\n",
    "    \"\"\" \n",
    "    SELECT *\n",
    "    FROM Answer\n",
    "    WHERE QuestionID IS 55 \"\"\",\n",
    "    conn)\n",
    "\n",
    "\n",
    "\n",
    "\n"
   ]
  },
  {
   "cell_type": "code",
   "execution_count": 4,
   "metadata": {},
   "outputs": [],
   "source": [
    "df = pd.read_sql(\n",
    "    \"\"\" \n",
    "    SELECT *\n",
    "    FROM Answer \n",
    "    ;\"\"\",\n",
    "    conn)\n",
    "df_questions = pd.read_sql(\n",
    "    \"\"\" \n",
    "    SELECT *\n",
    "    FROM Question \n",
    "    ;\"\"\",\n",
    "    conn)\n",
    "df_survey = pd.read_sql(\n",
    "    \"\"\" \n",
    "    SELECT *\n",
    "    FROM Survey \n",
    "    ;\"\"\",\n",
    "    conn)\n",
    "\n"
   ]
  },
  {
   "cell_type": "code",
   "execution_count": 5,
   "metadata": {},
   "outputs": [
    {
     "data": {
      "text/html": [
       "<div>\n",
       "<style scoped>\n",
       "    .dataframe tbody tr th:only-of-type {\n",
       "        vertical-align: middle;\n",
       "    }\n",
       "\n",
       "    .dataframe tbody tr th {\n",
       "        vertical-align: top;\n",
       "    }\n",
       "\n",
       "    .dataframe thead th {\n",
       "        text-align: right;\n",
       "    }\n",
       "</style>\n",
       "<table border=\"1\" class=\"dataframe\">\n",
       "  <thead>\n",
       "    <tr style=\"text-align: right;\">\n",
       "      <th></th>\n",
       "      <th>SurveyID</th>\n",
       "    </tr>\n",
       "  </thead>\n",
       "  <tbody>\n",
       "    <tr>\n",
       "      <th>2014</th>\n",
       "      <td>1</td>\n",
       "    </tr>\n",
       "    <tr>\n",
       "      <th>2016</th>\n",
       "      <td>1</td>\n",
       "    </tr>\n",
       "    <tr>\n",
       "      <th>2017</th>\n",
       "      <td>1</td>\n",
       "    </tr>\n",
       "    <tr>\n",
       "      <th>2018</th>\n",
       "      <td>1</td>\n",
       "    </tr>\n",
       "    <tr>\n",
       "      <th>2019</th>\n",
       "      <td>1</td>\n",
       "    </tr>\n",
       "  </tbody>\n",
       "</table>\n",
       "</div>"
      ],
      "text/plain": [
       "      SurveyID\n",
       "2014         1\n",
       "2016         1\n",
       "2017         1\n",
       "2018         1\n",
       "2019         1"
      ]
     },
     "execution_count": 5,
     "metadata": {},
     "output_type": "execute_result"
    }
   ],
   "source": [
    "df_survey.SurveyID.value_counts().to_frame()"
   ]
  },
  {
   "cell_type": "code",
   "execution_count": 6,
   "metadata": {},
   "outputs": [
    {
     "data": {
      "text/html": [
       "<div>\n",
       "<style scoped>\n",
       "    .dataframe tbody tr th:only-of-type {\n",
       "        vertical-align: middle;\n",
       "    }\n",
       "\n",
       "    .dataframe tbody tr th {\n",
       "        vertical-align: top;\n",
       "    }\n",
       "\n",
       "    .dataframe thead th {\n",
       "        text-align: right;\n",
       "    }\n",
       "</style>\n",
       "<table border=\"1\" class=\"dataframe\">\n",
       "  <thead>\n",
       "    <tr style=\"text-align: right;\">\n",
       "      <th></th>\n",
       "      <th>questiontext</th>\n",
       "      <th>questionid</th>\n",
       "    </tr>\n",
       "  </thead>\n",
       "  <tbody>\n",
       "    <tr>\n",
       "      <th>0</th>\n",
       "      <td>What is your age?</td>\n",
       "      <td>1</td>\n",
       "    </tr>\n",
       "    <tr>\n",
       "      <th>1</th>\n",
       "      <td>What is your gender?</td>\n",
       "      <td>2</td>\n",
       "    </tr>\n",
       "    <tr>\n",
       "      <th>2</th>\n",
       "      <td>What country do you live in?</td>\n",
       "      <td>3</td>\n",
       "    </tr>\n",
       "    <tr>\n",
       "      <th>3</th>\n",
       "      <td>If you live in the United States, which state ...</td>\n",
       "      <td>4</td>\n",
       "    </tr>\n",
       "    <tr>\n",
       "      <th>4</th>\n",
       "      <td>Are you self-employed?</td>\n",
       "      <td>5</td>\n",
       "    </tr>\n",
       "  </tbody>\n",
       "</table>\n",
       "</div>"
      ],
      "text/plain": [
       "                                        questiontext  questionid\n",
       "0                                  What is your age?           1\n",
       "1                               What is your gender?           2\n",
       "2                       What country do you live in?           3\n",
       "3  If you live in the United States, which state ...           4\n",
       "4                             Are you self-employed?           5"
      ]
     },
     "execution_count": 6,
     "metadata": {},
     "output_type": "execute_result"
    }
   ],
   "source": [
    "df_questions.head()"
   ]
  },
  {
   "cell_type": "code",
   "execution_count": 7,
   "metadata": {},
   "outputs": [
    {
     "data": {
      "text/plain": [
       "(105, 2)"
      ]
     },
     "execution_count": 7,
     "metadata": {},
     "output_type": "execute_result"
    }
   ],
   "source": [
    "df_questions.shape"
   ]
  },
  {
   "cell_type": "code",
   "execution_count": 8,
   "metadata": {},
   "outputs": [
    {
     "data": {
      "image/png": "[encoded data removed]",
      "text/plain": [
       "<Figure size 1300x500 with 1 Axes>"
      ]
     },
     "metadata": {},
     "output_type": "display_data"
    }
   ],
   "source": [
    "surveyid = pd.read_sql(\n",
    "    \"\"\"\n",
    "    SELECT COUNT(DISTINCT(QuestionID)) as Questions, SurveyID, COUNT(DISTINCT(UserID)) as Users\n",
    "    FROM Answer\n",
    "    GROUP BY SurveyID\"\"\", conn)\n",
    "\n",
    "surveyid\n",
    "\n",
    "plt.figure(figsize=(13,5))\n",
    "g = sns.barplot(hue=\"SurveyID\",y=\"Questions\", x=\"SurveyID\", data=surveyid, palette=\"Paired\" )\n",
    "g.legend_.remove()\n",
    "sns.despine()\n",
    "\n",
    "\n",
    "\n",
    "plt.show()\n"
   ]
  },
  {
   "cell_type": "code",
   "execution_count": 9,
   "metadata": {},
   "outputs": [
    {
     "data": {
      "image/png": "[encoded data removed]",
      "text/plain": [
       "<Figure size 1300x500 with 1 Axes>"
      ]
     },
     "metadata": {},
     "output_type": "display_data"
    }
   ],
   "source": [
    "plt.figure(figsize=(13,5))\n",
    "g = sns.barplot(hue=\"SurveyID\",y=\"Users\", x=\"SurveyID\", data=surveyid, palette=\"Paired\" )\n",
    "g.legend_.remove()\n",
    "sns.despine()\n",
    "\n",
    "\n",
    "\n",
    "plt.show()\n"
   ]
  },
  {
   "cell_type": "markdown",
   "metadata": {},
   "source": [
    "# More Interesing EDA"
   ]
  },
  {
   "cell_type": "markdown",
   "metadata": {},
   "source": [
    "<br />Question #54 states:<br />\n",
    "<br />\n",
    "Do you believe your productivity is ever affected by a mental health issue?</p>\n",
    "\n",
    "\n",
    "<br />Question #55 states:\n",
    "<br />\n",
    "\n",
    "\n",
    "If yes, what percentage of your work time (time performing primary or secondary job functions) is affected by a mental health issue?"
   ]
  },
  {
   "cell_type": "code",
   "execution_count": 42,
   "metadata": {},
   "outputs": [
    {
     "data": {
      "text/html": [
       "<div>\n",
       "<style scoped>\n",
       "    .dataframe tbody tr th:only-of-type {\n",
       "        vertical-align: middle;\n",
       "    }\n",
       "\n",
       "    .dataframe tbody tr th {\n",
       "        vertical-align: top;\n",
       "    }\n",
       "\n",
       "    .dataframe thead th {\n",
       "        text-align: right;\n",
       "    }\n",
       "</style>\n",
       "<table border=\"1\" class=\"dataframe\">\n",
       "  <thead>\n",
       "    <tr style=\"text-align: right;\">\n",
       "      <th></th>\n",
       "      <th>AnswerText</th>\n",
       "    </tr>\n",
       "  </thead>\n",
       "  <tbody>\n",
       "    <tr>\n",
       "      <th>1-25%</th>\n",
       "      <td>164</td>\n",
       "    </tr>\n",
       "    <tr>\n",
       "      <th>26-50%</th>\n",
       "      <td>125</td>\n",
       "    </tr>\n",
       "    <tr>\n",
       "      <th>51-75%</th>\n",
       "      <td>53</td>\n",
       "    </tr>\n",
       "    <tr>\n",
       "      <th>76-100%</th>\n",
       "      <td>25</td>\n",
       "    </tr>\n",
       "  </tbody>\n",
       "</table>\n",
       "</div>"
      ],
      "text/plain": [
       "         AnswerText\n",
       "1-25%           164\n",
       "26-50%          125\n",
       "51-75%           53\n",
       "76-100%          25"
      ]
     },
     "execution_count": 42,
     "metadata": {},
     "output_type": "execute_result"
    }
   ],
   "source": [
    "questions = pd.read_sql(\n",
    "    \"\"\" \n",
    "    SELECT *\n",
    "        FROM Answer\n",
    "        WHERE QuestionID IN (\"12\", \"14\", \"15\", \"16\", \"17\", \"55\")\n",
    "        AND AnswerText IS NOT \"-1\" \"\"\",conn)\n",
    "\n",
    "questions[questions['QuestionID'] == 55]['AnswerText'].value_counts().to_frame()"
   ]
  },
  {
   "cell_type": "markdown",
   "metadata": {},
   "source": [
    "Questions 12, 14 15, 16 and 17 state:\n",
    "\n",
    "--12 Would you bring up a mental health issue with a potential employer in an interview?\n",
    "\n",
    "-- 14 Do you know the options for mental health care available under your employer-provided health coverage?\n",
    "\n",
    "--15 Has your employer ever formally discussed mental health (for example, as part of a wellness campaign or other official communication)?\n",
    "\n",
    "--16 Does your employer offer resources to learn more about mental health disorders and options for seeking help?\n",
    "\n",
    "--17 If a mental health issue prompted you to request a medical leave from work, how easy or difficult would it be to ask for that leave?\n",
    "\n"
   ]
  },
  {
   "cell_type": "markdown",
   "metadata": {},
   "source": [
    "# (SQUAD) GOALS"
   ]
  },
  {
   "cell_type": "markdown",
   "metadata": {},
   "source": [
    "### Formulating Null_Hypothesis"
   ]
  },
  {
   "cell_type": "markdown",
   "metadata": {},
   "source": [
    "Using these questions and a $\\tilde{\\chi}^2$ test, I form the following:"
   ]
  },
  {
   "cell_type": "code",
   "execution_count": 31,
   "metadata": {},
   "outputs": [],
   "source": [
    "Null_Hypothesis = [\"Mental health stigma has no impact on overall mental health in the workforce?\"]"
   ]
  },
  {
   "cell_type": "markdown",
   "metadata": {},
   "source": [
    "What does this means you say? Easy. I want to know if a positive mental health corporate culture translate into higher employee mental health. \n",
    "How will reject or fail to reject the NH?\n",
    "Do the following features correlate into better or worse employee mental health:\n",
    "\n",
    "* How to avoid a mental health emergency? (ease of accesing help or preventive measures)\n",
    "\n",
    "\n",
    "\n",
    "* How are mental health issues perceived in the company (how openly mental health is discussed amongst employees, supervisors and in interview process)\n",
    "\n",
    "\n",
    "* Overall employee productivity / satisfaction"
   ]
  },
  {
   "cell_type": "markdown",
   "metadata": {},
   "source": [
    "We fail to reject the null hypothesis if theres correlation with these features and overall productivity and mental health in the workforce. "
   ]
  },
  {
   "cell_type": "code",
   "execution_count": 52,
   "metadata": {},
   "outputs": [
    {
     "data": {
      "text/html": [
       "<div>\n",
       "<style scoped>\n",
       "    .dataframe tbody tr th:only-of-type {\n",
       "        vertical-align: middle;\n",
       "    }\n",
       "\n",
       "    .dataframe tbody tr th {\n",
       "        vertical-align: top;\n",
       "    }\n",
       "\n",
       "    .dataframe thead th {\n",
       "        text-align: right;\n",
       "    }\n",
       "</style>\n",
       "<table border=\"1\" class=\"dataframe\">\n",
       "  <thead>\n",
       "    <tr style=\"text-align: right;\">\n",
       "      <th></th>\n",
       "      <th>AnswerText</th>\n",
       "      <th>SurveyID</th>\n",
       "      <th>UserID</th>\n",
       "      <th>QuestionID</th>\n",
       "    </tr>\n",
       "  </thead>\n",
       "  <tbody>\n",
       "    <tr>\n",
       "      <th>0</th>\n",
       "      <td>31</td>\n",
       "      <td>2017</td>\n",
       "      <td>2695</td>\n",
       "      <td>1</td>\n",
       "    </tr>\n",
       "    <tr>\n",
       "      <th>1</th>\n",
       "      <td>36</td>\n",
       "      <td>2017</td>\n",
       "      <td>2696</td>\n",
       "      <td>1</td>\n",
       "    </tr>\n",
       "    <tr>\n",
       "      <th>2</th>\n",
       "      <td>30</td>\n",
       "      <td>2017</td>\n",
       "      <td>2699</td>\n",
       "      <td>1</td>\n",
       "    </tr>\n",
       "    <tr>\n",
       "      <th>3</th>\n",
       "      <td>36</td>\n",
       "      <td>2017</td>\n",
       "      <td>2700</td>\n",
       "      <td>1</td>\n",
       "    </tr>\n",
       "    <tr>\n",
       "      <th>4</th>\n",
       "      <td>38</td>\n",
       "      <td>2017</td>\n",
       "      <td>2701</td>\n",
       "      <td>1</td>\n",
       "    </tr>\n",
       "  </tbody>\n",
       "</table>\n",
       "</div>"
      ],
      "text/plain": [
       "  AnswerText  SurveyID  UserID  QuestionID\n",
       "0         31      2017    2695           1\n",
       "1         36      2017    2696           1\n",
       "2         30      2017    2699           1\n",
       "3         36      2017    2700           1\n",
       "4         38      2017    2701           1"
      ]
     },
     "execution_count": 52,
     "metadata": {},
     "output_type": "execute_result"
    }
   ],
   "source": [
    "tech_work = pd.read_sql(\n",
    "    \"\"\" \n",
    "    SELECT *\n",
    "    FROM Answer \n",
    "    WHERE UserID IN (SELECT UserID FROM Answer WHERE QuestionID IS 68 AND AnswerText IS 1);\"\"\",\n",
    "    conn)\n",
    "\n",
    "questions_df = tech_work[tech_work['QuestionID'].isin([12, 14, 15, 16, 17])]\n",
    "\n",
    "tech_work.head()"
   ]
  },
  {
   "cell_type": "code",
   "execution_count": 50,
   "metadata": {},
   "outputs": [
    {
     "data": {
      "image/png": "[encoded data removed]",
      "text/plain": [
       "<Figure size 1000x500 with 2 Axes>"
      ]
     },
     "metadata": {},
     "output_type": "display_data"
    }
   ],
   "source": [
    "q12 = pd.read_sql(\n",
    "    \"\"\" \n",
    "    SELECT *\n",
    "    FROM Answer \n",
    "    WHERE UserID IN (SELECT UserID FROM Answer WHERE QuestionID IS 68 AND AnswerText IS 1)\n",
    "    AND QuestionID is 12;\"\"\",\n",
    "    conn)\n",
    "\n",
    "\n",
    "q12 = q12['AnswerText'].to_frame()\n",
    "\n",
    "\n",
    "q14 = pd.read_sql(\n",
    "    \"\"\" \n",
    "    SELECT *\n",
    "    FROM Answer \n",
    "    WHERE UserID IN (SELECT UserID FROM Answer WHERE QuestionID IS 68 AND AnswerText IS 1)\n",
    "    AND QuestionID is 14;\"\"\",\n",
    "    conn)\n",
    "\n",
    "\n",
    "q14 = q14['AnswerText'].to_frame()\n",
    "\n",
    "\n",
    "\n",
    "\n",
    "fig, ax = plt.subplots(1, 2, figsize=(10, 5))\n",
    "fig.subplots_adjust(wspace=0.3)\n",
    "\n",
    "sns.histplot(ax=ax[0],\n",
    "             hue=q14['AnswerText'],\n",
    "             data=q14,\n",
    "             legend=False,\n",
    "            x=q14['AnswerText']\n",
    "            )\n",
    "ax[0].set_title('MH Care Options Awareness')\n",
    "sns.despine()\n",
    "\n",
    "sns.histplot(ax=ax[1],\n",
    "    hue=q12['AnswerText'],\n",
    "             data=q12,\n",
    "             legend=False,\n",
    "            x=q12['AnswerText']\n",
    "            )\n",
    "\n",
    "ax[1].set_title('MH During Interview')\n",
    "sns.despine()\n",
    "plt.show()"
   ]
  },
  {
   "cell_type": "code",
   "execution_count": 33,
   "metadata": {},
   "outputs": [
    {
     "data": {
      "image/png": "[encoded data removed]",
      "text/plain": [
       "<Figure size 1300x500 with 1 Axes>"
      ]
     },
     "metadata": {},
     "output_type": "display_data"
    }
   ],
   "source": [
    "survey_df_graph = stigma_df.groupby(\"SurveyID\").count().reset_index()\n",
    "plt.figure(figsize=(13,5))\n",
    "sns.barplot(hue = \"SurveyID\", y=\"AnswerText\", x=\"SurveyID\" ,data=survey_df_graph, palette=\"Paired\").set(ylabel = \"Total Answers\",title='Survey Answers')\n",
    "plt.ticklabel_format(style='plain', axis='y')\n",
    "sns.despine()\n",
    "plt.show()"
   ]
  },
  {
   "cell_type": "code",
   "execution_count": 44,
   "metadata": {},
   "outputs": [
    {
     "data": {
      "image/png": "[encoded data removed]",
      "text/plain": [
       "<Figure size 640x480 with 1 Axes>"
      ]
     },
     "metadata": {},
     "output_type": "display_data"
    }
   ],
   "source": [
    "fig, ax = plt.subplots()\n",
    "sns.barplot(hue = \"SurveyID\", y=\"AnswerText\", x=\"SurveyID\" ,data=stigma_df[['AnswerText','SurveyID']], palette=\"Paired\")\n",
    "ax.set_xlim(2016, 2019)\n",
    "sns.despine()\n",
    "ax.xaxis.set_major_formatter(FormatStrFormatter('%d'))\n",
    "plt.show()"
   ]
  },
  {
   "cell_type": "code",
   "execution_count": null,
   "metadata": {},
   "outputs": [],
   "source": []
  },
  {
   "cell_type": "code",
   "execution_count": 49,
   "metadata": {},
   "outputs": [
    {
     "data": {
      "image/png": "[encoded data removed]",
      "text/plain": [
       "<Figure size 640x480 with 1 Axes>"
      ]
     },
     "metadata": {},
     "output_type": "display_data"
    }
   ],
   "source": [
    "\n",
    "\n",
    "\n",
    "productivity_df['AnswerText'] = productivity_df['AnswerText'].apply(lambda x: \"0\" if x == \"-1\" else '1')\n",
    "df = pd.concat([stigma_df, productivity_df], axis=0)\n",
    "\n",
    "\n",
    "\n",
    "\n",
    "fig, ax = plt.subplots()\n",
    "\n",
    "ax.bar(\n",
    "        list(productivity_df[productivity_df['QuestionID'] == 55]['AnswerText'].value_counts().index),\n",
    "        list(productivity_df[productivity_df['QuestionID'] == 55]['AnswerText'].value_counts().values),\n",
    "       \n",
    "       linewidth=2.0)\n",
    "plt.title(\"Target Variable\")\n",
    "ax.spines['right'].set_visible(False)\n",
    "ax.spines['top'].set_visible(False)\n",
    "\n",
    "ax.set_xlabel('Job Performance Affected by Mental Health')\n",
    "\n",
    "plt.show()\n"
   ]
  },
  {
   "cell_type": "code",
   "execution_count": 4,
   "metadata": {},
   "outputs": [],
   "source": [
    "cross = pd.crosstab(df[df[\"QuestionID\"] == 55][\"AnswerText\"], df[df[\"QuestionID\"] != 55][\"AnswerText\"])\n",
    "res = stats.chi2_contingency(cross)\n",
    "res.pvalue"
   ]
  },
  {
   "cell_type": "code",
   "execution_count": 10,
   "metadata": {},
   "outputs": [
    {
     "data": {
      "text/html": [
       "<div>\n",
       "<style scoped>\n",
       "    .dataframe tbody tr th:only-of-type {\n",
       "        vertical-align: middle;\n",
       "    }\n",
       "\n",
       "    .dataframe tbody tr th {\n",
       "        vertical-align: top;\n",
       "    }\n",
       "\n",
       "    .dataframe thead tr th {\n",
       "        text-align: left;\n",
       "    }\n",
       "\n",
       "    .dataframe thead tr:last-of-type th {\n",
       "        text-align: right;\n",
       "    }\n",
       "</style>\n",
       "<table border=\"1\" class=\"dataframe\">\n",
       "  <thead>\n",
       "    <tr>\n",
       "      <th></th>\n",
       "      <th colspan=\"5\" halign=\"left\">AnswerText</th>\n",
       "    </tr>\n",
       "    <tr>\n",
       "      <th>AnswerText</th>\n",
       "      <th>I don't know</th>\n",
       "      <th>Maybe</th>\n",
       "      <th>No</th>\n",
       "      <th>Yes</th>\n",
       "      <th>All</th>\n",
       "    </tr>\n",
       "    <tr>\n",
       "      <th>AnswerText</th>\n",
       "      <th></th>\n",
       "      <th></th>\n",
       "      <th></th>\n",
       "      <th></th>\n",
       "      <th></th>\n",
       "    </tr>\n",
       "  </thead>\n",
       "  <tbody>\n",
       "    <tr>\n",
       "      <th>0</th>\n",
       "      <td>1.00</td>\n",
       "      <td>11.43</td>\n",
       "      <td>54.83</td>\n",
       "      <td>19.53</td>\n",
       "      <td>86.79</td>\n",
       "    </tr>\n",
       "    <tr>\n",
       "      <th>1</th>\n",
       "      <td>0.22</td>\n",
       "      <td>1.44</td>\n",
       "      <td>7.99</td>\n",
       "      <td>3.55</td>\n",
       "      <td>13.21</td>\n",
       "    </tr>\n",
       "    <tr>\n",
       "      <th>All</th>\n",
       "      <td>1.22</td>\n",
       "      <td>12.87</td>\n",
       "      <td>62.82</td>\n",
       "      <td>23.09</td>\n",
       "      <td>100.00</td>\n",
       "    </tr>\n",
       "  </tbody>\n",
       "</table>\n",
       "</div>"
      ],
      "text/plain": [
       "             AnswerText                             \n",
       "AnswerText I don't know  Maybe     No    Yes     All\n",
       "AnswerText                                          \n",
       "0                  1.00  11.43  54.83  19.53   86.79\n",
       "1                  0.22   1.44   7.99   3.55   13.21\n",
       "All                1.22  12.87  62.82  23.09  100.00"
      ]
     },
     "execution_count": 10,
     "metadata": {},
     "output_type": "execute_result"
    }
   ],
   "source": [
    "crosstab, test_results, expected = rp.crosstab(df[df[\"QuestionID\"] == 55][\"AnswerText\"], df[df[\"QuestionID\"] != 55][\"AnswerText\"],\n",
    "                                               test= \"chi-square\",\n",
    "                                               expected_freqs= True,\n",
    "                                               prop= \"cell\")\n",
    "\n",
    "crosstab"
   ]
  },
  {
   "cell_type": "code",
   "execution_count": 11,
   "metadata": {},
   "outputs": [
    {
     "data": {
      "text/html": [
       "<div>\n",
       "<style scoped>\n",
       "    .dataframe tbody tr th:only-of-type {\n",
       "        vertical-align: middle;\n",
       "    }\n",
       "\n",
       "    .dataframe tbody tr th {\n",
       "        vertical-align: top;\n",
       "    }\n",
       "\n",
       "    .dataframe thead th {\n",
       "        text-align: right;\n",
       "    }\n",
       "</style>\n",
       "<table border=\"1\" class=\"dataframe\">\n",
       "  <thead>\n",
       "    <tr style=\"text-align: right;\">\n",
       "      <th></th>\n",
       "      <th>Chi-square test</th>\n",
       "      <th>results</th>\n",
       "    </tr>\n",
       "  </thead>\n",
       "  <tbody>\n",
       "    <tr>\n",
       "      <th>0</th>\n",
       "      <td>Pearson Chi-square ( 3.0) =</td>\n",
       "      <td>1.6194</td>\n",
       "    </tr>\n",
       "    <tr>\n",
       "      <th>1</th>\n",
       "      <td>p-value =</td>\n",
       "      <td>0.6550</td>\n",
       "    </tr>\n",
       "    <tr>\n",
       "      <th>2</th>\n",
       "      <td>Cramer's V =</td>\n",
       "      <td>0.0424</td>\n",
       "    </tr>\n",
       "  </tbody>\n",
       "</table>\n",
       "</div>"
      ],
      "text/plain": [
       "                Chi-square test  results\n",
       "0  Pearson Chi-square ( 3.0) =    1.6194\n",
       "1                    p-value =    0.6550\n",
       "2                 Cramer's V =    0.0424"
      ]
     },
     "execution_count": 11,
     "metadata": {},
     "output_type": "execute_result"
    }
   ],
   "source": [
    "test_results"
   ]
  },
  {
   "cell_type": "markdown",
   "metadata": {},
   "source": [
    "### Conclusion"
   ]
  },
  {
   "cell_type": "markdown",
   "metadata": {},
   "source": [
    "the p-value is larger than the significance level, one fails to reject the null hypothesis because there is not enough evidence to conclude that the variables are associated."
   ]
  },
  {
   "cell_type": "markdown",
   "metadata": {},
   "source": [
    "# Further Consideration"
   ]
  },
  {
   "cell_type": "markdown",
   "metadata": {},
   "source": [
    "To build upon this first finding, I would use other questions (besides #55) gauge if there is statistical significance between corporate culture, mental health, and productivity. Additionally, this test does not use the ordinal nature of question #55. There are some other libraries that claim to be able to consider ordinal features amongst nominal variables. \n",
    "\n",
    "Another method is also available, a Decision Tree could be tested to see if theres any correlation between these features."
   ]
  },
  {
   "cell_type": "markdown",
   "metadata": {},
   "source": [
    "### Sources\n",
    "\n",
    "https://www.kaggle.com/code/hamelg/python-for-data-25-chi-squared-tests\n",
    "\n",
    "https://stattrek.com/chi-square-test/independence?utm_content=cmp-true#google_vignette\n",
    "\n",
    "https://pythonfordatascienceorg.wordpress.com/chi-square-python/"
   ]
  }
 ],
 "metadata": {
  "kernelspec": {
   "display_name": "Python 3",
   "language": "python",
   "name": "python3"
  },
  "language_info": {
   "codemirror_mode": {
    "name": "ipython",
    "version": 3
   },
   "file_extension": ".py",
   "mimetype": "text/x-python",
   "name": "python",
   "nbconvert_exporter": "python",
   "pygments_lexer": "ipython3",
   "version": "3.11.4"
  },
  "orig_nbformat": 4
 },
 "nbformat": 4,
 "nbformat_minor": 2
}
