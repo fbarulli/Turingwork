{
 "cells": [
  {
   "cell_type": "code",
   "execution_count": 18,
   "id": "1578667f",
   "metadata": {},
   "outputs": [],
   "source": [
    "import seaborn as sns\n",
    "import numpy as np\n",
    "import pandas as pd\n",
    "import sqlite3\n",
    "import matplotlib.pyplot as plt\n",
    "\n",
    "DB_PATH = \"/Users/mimi/Desktop/PYTHON/TURING/HOME/M2/data/mental_health.sqlite\"\n",
    "conn = sqlite3.connect(DB_PATH)\n",
    "pd.set_option(\"display.max_columns\", None)\n",
    "pd.set_option(\"display.max_rows\", None)\n"
   ]
  },
  {
   "cell_type": "code",
   "execution_count": 19,
   "id": "8507c94c",
   "metadata": {},
   "outputs": [
    {
     "data": {
      "image/png": "[encoded data removed]",
      "text/plain": [
       "<Figure size 640x480 with 1 Axes>"
      ]
     },
     "metadata": {},
     "output_type": "display_data"
    }
   ],
   "source": [
    "age_count_data = pd.read_sql(\n",
    "    \"\"\" SELECT AnswerText, COUNT(AnswerText) AS occurrances\n",
    "        FROM Answer \n",
    "        WHERE QuestionID IS  1 AND AnswerText > '18'\n",
    "        GROUP BY AnswerText\n",
    "        HAVING occurrances > 1;\"\"\",\n",
    "        conn)\n",
    "\n",
    "age_count_data[\"AnswerText\"] = age_count_data[\"AnswerText\"].astype('int')\n",
    "\n",
    "x = age_count_data[\"AnswerText\"]\n",
    "y = age_count_data['occurrances']\n",
    "\n",
    "age_count_data = pd.read_sql(\"\"\" Select AnswerText from Answer WHERE QuestionID IS 1\"\"\", conn)\n",
    "age_count_data.drop(age_count_data[age_count_data.AnswerText == \"-1\"].index, inplace=True)\n",
    "age_count_data['AnswerText'] = age_count_data['AnswerText'].astype(\"int\")\n",
    "age_count_avg = np.average(age_count_data['AnswerText'])\n",
    "\n",
    "fig, ax = plt.subplots()\n",
    "\n",
    "ax.bar(x, y, linewidth=2.0)\n",
    "plt.title(\"Age Distribution\")\n",
    "ax.set_xlabel('Ages')\n",
    "ax.spines['right'].set_visible(False)\n",
    "ax.spines['top'].set_visible(False)\n",
    "ax.axvline(x=age_count_avg, color='r', linestyle='-', label=\"Testing\" )\n",
    "ax.legend([round(age_count_avg)])\n",
    "\n",
    "\n",
    "\n",
    "\n",
    "\n",
    "\n",
    "plt.show()"
   ]
  },
  {
   "cell_type": "code",
   "execution_count": 11,
   "id": "0dda471c",
   "metadata": {},
   "outputs": [
    {
     "data": {
      "text/plain": [
       "33.95680037977688"
      ]
     },
     "execution_count": 11,
     "metadata": {},
     "output_type": "execute_result"
    }
   ],
   "source": [
    "age_count_avg"
   ]
  },
  {
   "cell_type": "code",
   "execution_count": null,
   "id": "e6ea3eb3",
   "metadata": {},
   "outputs": [],
   "source": []
  },
  {
   "cell_type": "code",
   "execution_count": null,
   "id": "35d74342",
   "metadata": {},
   "outputs": [],
   "source": []
  },
  {
   "cell_type": "code",
   "execution_count": null,
   "id": "c61941ff",
   "metadata": {},
   "outputs": [],
   "source": []
  }
 ],
 "metadata": {
  "kernelspec": {
   "display_name": "Python 3 (ipykernel)",
   "language": "python",
   "name": "python3"
  },
  "language_info": {
   "codemirror_mode": {
    "name": "ipython",
    "version": 3
   },
   "file_extension": ".py",
   "mimetype": "text/x-python",
   "name": "python",
   "nbconvert_exporter": "python",
   "pygments_lexer": "ipython3",
   "version": "3.11.4"
  }
 },
 "nbformat": 4,
 "nbformat_minor": 5
}
