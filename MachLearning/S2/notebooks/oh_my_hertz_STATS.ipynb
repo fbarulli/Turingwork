{
 "cells": [
  {
   "cell_type": "code",
   "execution_count": 1,
   "metadata": {},
   "outputs": [
    {
     "data": {
      "text/html": [
       "<div>\n",
       "<style scoped>\n",
       "    .dataframe tbody tr th:only-of-type {\n",
       "        vertical-align: middle;\n",
       "    }\n",
       "\n",
       "    .dataframe tbody tr th {\n",
       "        vertical-align: top;\n",
       "    }\n",
       "\n",
       "    .dataframe thead th {\n",
       "        text-align: right;\n",
       "    }\n",
       "</style>\n",
       "<table border=\"1\" class=\"dataframe\">\n",
       "  <thead>\n",
       "    <tr style=\"text-align: right;\">\n",
       "      <th></th>\n",
       "      <th>gender</th>\n",
       "      <th>age</th>\n",
       "      <th>hypertension</th>\n",
       "      <th>heart_disease</th>\n",
       "      <th>ever_married</th>\n",
       "      <th>work_type</th>\n",
       "      <th>Residence_type</th>\n",
       "      <th>avg_glucose_level</th>\n",
       "      <th>bmi</th>\n",
       "      <th>smoking_status</th>\n",
       "      <th>stroke</th>\n",
       "    </tr>\n",
       "  </thead>\n",
       "  <tbody>\n",
       "    <tr>\n",
       "      <th>0</th>\n",
       "      <td>0</td>\n",
       "      <td>67.0</td>\n",
       "      <td>0</td>\n",
       "      <td>1</td>\n",
       "      <td>1</td>\n",
       "      <td>0</td>\n",
       "      <td>0</td>\n",
       "      <td>228.69</td>\n",
       "      <td>36.60000</td>\n",
       "      <td>1</td>\n",
       "      <td>1</td>\n",
       "    </tr>\n",
       "    <tr>\n",
       "      <th>1</th>\n",
       "      <td>1</td>\n",
       "      <td>61.0</td>\n",
       "      <td>0</td>\n",
       "      <td>0</td>\n",
       "      <td>1</td>\n",
       "      <td>1</td>\n",
       "      <td>1</td>\n",
       "      <td>202.21</td>\n",
       "      <td>28.89456</td>\n",
       "      <td>0</td>\n",
       "      <td>1</td>\n",
       "    </tr>\n",
       "    <tr>\n",
       "      <th>2</th>\n",
       "      <td>0</td>\n",
       "      <td>80.0</td>\n",
       "      <td>0</td>\n",
       "      <td>1</td>\n",
       "      <td>1</td>\n",
       "      <td>0</td>\n",
       "      <td>1</td>\n",
       "      <td>105.92</td>\n",
       "      <td>32.50000</td>\n",
       "      <td>0</td>\n",
       "      <td>1</td>\n",
       "    </tr>\n",
       "    <tr>\n",
       "      <th>3</th>\n",
       "      <td>1</td>\n",
       "      <td>49.0</td>\n",
       "      <td>0</td>\n",
       "      <td>0</td>\n",
       "      <td>1</td>\n",
       "      <td>0</td>\n",
       "      <td>0</td>\n",
       "      <td>171.23</td>\n",
       "      <td>34.40000</td>\n",
       "      <td>2</td>\n",
       "      <td>1</td>\n",
       "    </tr>\n",
       "    <tr>\n",
       "      <th>4</th>\n",
       "      <td>1</td>\n",
       "      <td>79.0</td>\n",
       "      <td>1</td>\n",
       "      <td>0</td>\n",
       "      <td>1</td>\n",
       "      <td>1</td>\n",
       "      <td>1</td>\n",
       "      <td>174.12</td>\n",
       "      <td>24.00000</td>\n",
       "      <td>0</td>\n",
       "      <td>1</td>\n",
       "    </tr>\n",
       "  </tbody>\n",
       "</table>\n",
       "</div>"
      ],
      "text/plain": [
       "   gender   age  hypertension  heart_disease  ever_married  work_type  \\\n",
       "0       0  67.0             0              1             1          0   \n",
       "1       1  61.0             0              0             1          1   \n",
       "2       0  80.0             0              1             1          0   \n",
       "3       1  49.0             0              0             1          0   \n",
       "4       1  79.0             1              0             1          1   \n",
       "\n",
       "   Residence_type  avg_glucose_level       bmi  smoking_status  stroke  \n",
       "0               0             228.69  36.60000               1       1  \n",
       "1               1             202.21  28.89456               0       1  \n",
       "2               1             105.92  32.50000               0       1  \n",
       "3               0             171.23  34.40000               2       1  \n",
       "4               1             174.12  24.00000               0       1  "
      ]
     },
     "execution_count": 1,
     "metadata": {},
     "output_type": "execute_result"
    }
   ],
   "source": [
    "import utils\n",
    "\n",
    "from scipy.stats import shapiro\n",
    "from scipy.stats import pearsonr\n",
    "from scipy.stats import spearmanr\n",
    "from scipy.stats import kendalltau\n",
    "from scipy.stats import mannwhitneyu\n",
    "from scipy.stats import wilcoxon\n",
    "from scipy.stats import kruskal\n",
    "from scipy.stats import ks_2samp\n",
    "from scipy.stats import normaltest\n",
    "from scipy.stats import anderson\n",
    "import researchpy as rp\n",
    "import scipy.stats as stats\n",
    "\n",
    "from sklearn.model_selection import StratifiedKFold as KFold\n",
    "import numpy as np\n",
    "import pandas as pd\n",
    "import matplotlib.pyplot as plt\n",
    "import seaborn as sns\n",
    "import phik\n",
    "\n",
    "\n",
    "\n",
    "from sklearn import preprocessing\n",
    "from sklearn.preprocessing import LabelEncoder\n",
    "from sklearn.pipeline import Pipeline\n",
    "from sklearn.impute import SimpleImputer\n",
    "\n",
    "from imblearn.over_sampling import SMOTE,RandomOverSampler\n",
    "from imblearn.under_sampling import RandomUnderSampler\n",
    "\n",
    "\n",
    "\n",
    "\n",
    "PATH = '/Users/mimi/Desktop/PYTHON/TURING/HOME/MachLearning/S2/data/healthcare-dataset-stroke-data.csv'\n",
    "\n",
    "df = pd.read_csv(PATH)\n",
    "df.drop(columns='id', inplace=True)\n",
    "\n",
    "df.drop(df[df.gender == 'Other'].index,inplace=True)\n",
    "df.reset_index(drop=True,inplace=True)\n",
    "\n",
    "df.gender = df.gender.map({'Male':0,'Female':1})\n",
    "df.ever_married = df.ever_married.map({'No':0,'Yes':1})\n",
    "df.work_type = df.work_type.map({'Private':0,'Self-employed':1,'children':2,'Govt_job':3,'Never_worked':4})\n",
    "df.Residence_type = df.Residence_type.map({'Urban':0,'Rural':1})\n",
    "df.smoking_status = df.smoking_status.map({'never smoked':0,'formerly smoked':1,'smokes':2,'Unknown':3})\n",
    "\n",
    "imputer = SimpleImputer(strategy=\"mean\")\n",
    "df['bmi'] = imputer.fit_transform(df[['bmi']])\n",
    "data1 = df[df['stroke'] == 1]['age']\n",
    "data2 = df[df['stroke'] == 0]['age']\n",
    "\n",
    "df.head()\n"
   ]
  },
  {
   "cell_type": "markdown",
   "metadata": {},
   "source": [
    "## In the following code, I sample the non stroke patients with the same distribution as the population."
   ]
  },
  {
   "cell_type": "code",
   "execution_count": 2,
   "metadata": {},
   "outputs": [
    {
     "name": "stdout",
     "output_type": "stream",
     "text": [
      "Fold 0 vs 1: KstestResult(statistic=0.0, pvalue=1.0, statistic_location=0, statistic_sign=1)\n",
      "Fold 0 vs 2: KstestResult(statistic=0.0, pvalue=1.0, statistic_location=0, statistic_sign=1)\n",
      "Fold 0 vs 3: KstestResult(statistic=0.0, pvalue=1.0, statistic_location=0, statistic_sign=1)\n",
      "Fold 0 vs 4: KstestResult(statistic=0.0, pvalue=1.0, statistic_location=0, statistic_sign=1)\n",
      "Fold 0 vs 5: KstestResult(statistic=0.0, pvalue=1.0, statistic_location=0, statistic_sign=1)\n",
      "Fold 0 vs 6: KstestResult(statistic=0.0, pvalue=1.0, statistic_location=0, statistic_sign=1)\n",
      "Fold 0 vs 7: KstestResult(statistic=0.0, pvalue=1.0, statistic_location=0, statistic_sign=1)\n",
      "Fold 0 vs 8: KstestResult(statistic=0.0, pvalue=1.0, statistic_location=0, statistic_sign=1)\n",
      "Fold 0 vs 9: KstestResult(statistic=0.0, pvalue=1.0, statistic_location=0, statistic_sign=1)\n",
      "Fold 0 vs 10: KstestResult(statistic=0.0, pvalue=1.0, statistic_location=0, statistic_sign=1)\n",
      "Fold 0 vs 11: KstestResult(statistic=0.0, pvalue=1.0, statistic_location=0, statistic_sign=1)\n",
      "Fold 0 vs 12: KstestResult(statistic=0.0, pvalue=1.0, statistic_location=0, statistic_sign=1)\n",
      "Fold 0 vs 13: KstestResult(statistic=0.0, pvalue=1.0, statistic_location=0, statistic_sign=1)\n",
      "Fold 0 vs 14: KstestResult(statistic=0.0, pvalue=1.0, statistic_location=0, statistic_sign=1)\n",
      "Fold 0 vs 15: KstestResult(statistic=0.0, pvalue=1.0, statistic_location=0, statistic_sign=1)\n",
      "Fold 0 vs 16: KstestResult(statistic=0.0, pvalue=1.0, statistic_location=0, statistic_sign=1)\n",
      "Fold 0 vs 17: KstestResult(statistic=0.0, pvalue=1.0, statistic_location=0, statistic_sign=1)\n",
      "Fold 0 vs 18: KstestResult(statistic=0.0, pvalue=1.0, statistic_location=0, statistic_sign=1)\n",
      "Fold 0 vs 19: KstestResult(statistic=0.0, pvalue=1.0, statistic_location=0, statistic_sign=1)\n"
     ]
    },
    {
     "name": "stderr",
     "output_type": "stream",
     "text": [
      "/Users/mimi/Desktop/PYTHON/TURING/HOME/MachLearning/S2/notebooks/utils.py:31: SettingWithCopyWarning: \n",
      "A value is trying to be set on a copy of a slice from a DataFrame.\n",
      "Try using .loc[row_indexer,col_indexer] = value instead\n",
      "\n",
      "See the caveats in the documentation: https://pandas.pydata.org/pandas-docs/stable/user_guide/indexing.html#returning-a-view-versus-a-copy\n",
      "  df['Fold'] = -1\n"
     ]
    }
   ],
   "source": [
    "data = utils.create_folds(df[df['stroke'] == 0], fold_length=len(data1))\n",
    "from scipy.stats import ks_2samp\n",
    "\n",
    "for fold in np.sort(data.Fold.unique()):\n",
    "    if fold == 0:\n",
    "        continue  # Skip the comparison with itself\n",
    "    print(f'Fold 0 vs {fold}:', ks_2samp(data.loc[data.Fold==0, 'stroke'], data.loc[data.Fold==fold, 'stroke']))"
   ]
  },
  {
   "cell_type": "markdown",
   "metadata": {},
   "source": [
    "## Tests"
   ]
  },
  {
   "cell_type": "code",
   "execution_count": 3,
   "metadata": {},
   "outputs": [],
   "source": [
    "data1 = df[df['stroke'] == 1]['age']\n",
    "data2 = data[data['Fold'] == 17]['age']"
   ]
  },
  {
   "cell_type": "markdown",
   "metadata": {},
   "source": [
    "Independence Test"
   ]
  },
  {
   "cell_type": "code",
   "execution_count": null,
   "metadata": {},
   "outputs": [],
   "source": [
    "stats.ttest_ind(data1, data2)"
   ]
  },
  {
   "cell_type": "markdown",
   "metadata": {},
   "source": [
    "strong evidence to reject null hypothesis\n",
    "\n",
    "\n",
    "Next we have HOMOGENEITY OF VARIANCE\n"
   ]
  },
  {
   "cell_type": "code",
   "execution_count": null,
   "metadata": {},
   "outputs": [],
   "source": [
    "stats.levene(data1, data2, center= 'mean')\n"
   ]
  },
  {
   "cell_type": "code",
   "execution_count": 5,
   "metadata": {},
   "outputs": [
    {
     "data": {
      "image/png": "[encoded data removed]",
      "text/plain": [
       "<Figure size 1000x500 with 1 Axes>"
      ]
     },
     "metadata": {},
     "output_type": "display_data"
    }
   ],
   "source": [
    "fig = plt.figure(figsize=(10, 5))\n",
    "#ax = fig.add_subplot(111)\n",
    "\n",
    "\n",
    "\n",
    "p_bp_stroke = plt.hist(data1, label=\"Stroke\",\n",
    "                       density=True,\n",
    "                       alpha=0.75)\n",
    "p_bp_nonstroke = plt.hist(data2, label=\"Non-Stroke\",\n",
    "                          density=True,\n",
    "                          alpha=0.75)\n",
    "\n",
    "plt.suptitle(\"Distribution of age \\n  Stroke and Non-Stroke Patients\", fontsize=10)\n",
    "plt.xlabel(\"Age\", fontsize=16)\n",
    "plt.ylabel(\"Probability density\", fontsize=16)\n",
    "\n",
    "plt.legend()\n",
    "\n",
    "\n",
    "\n",
    "sns.despine()\n",
    "plt.show()\n"
   ]
  },
  {
   "cell_type": "markdown",
   "metadata": {},
   "source": [
    "This means we have to handle heteroskedasticity (unequal varience) and use Welches t-test!\n",
    "\n",
    "\n",
    "First we test normality with shapiro"
   ]
  },
  {
   "cell_type": "code",
   "execution_count": 12,
   "metadata": {},
   "outputs": [
    {
     "data": {
      "text/plain": [
       "ShapiroResult(statistic=0.8781338334083557, pvalue=3.1740154124784703e-13)"
      ]
     },
     "execution_count": 12,
     "metadata": {},
     "output_type": "execute_result"
    }
   ],
   "source": [
    "stats.shapiro(data1)\n"
   ]
  },
  {
   "cell_type": "code",
   "execution_count": 13,
   "metadata": {},
   "outputs": [
    {
     "data": {
      "text/plain": [
       "ShapiroResult(statistic=0.9702313542366028, pvalue=4.53601787739899e-05)"
      ]
     },
     "execution_count": 13,
     "metadata": {},
     "output_type": "execute_result"
    }
   ],
   "source": [
    "stats.shapiro(data2)\n"
   ]
  },
  {
   "cell_type": "markdown",
   "metadata": {},
   "source": [
    "Looks like both samples do not follow the normal distribution. therefore we abandone this test and continue with bootstraping "
   ]
  },
  {
   "cell_type": "code",
   "execution_count": 15,
   "metadata": {},
   "outputs": [
    {
     "name": "stdout",
     "output_type": "stream",
     "text": [
      "95% Confidence Interval: [-3.80511647  3.8100241 ]\n"
     ]
    },
    {
     "data": {
      "image/png": "[encoded data removed]",
      "text/plain": [
       "<Figure size 640x480 with 1 Axes>"
      ]
     },
     "metadata": {},
     "output_type": "display_data"
    },
    {
     "name": "stdout",
     "output_type": "stream",
     "text": [
      "Observed Difference in Means: 26.866184738955823\n",
      "P-value: 0.000\n"
     ]
    }
   ],
   "source": [
    "bootstrap_statistics = utils.bootstrap_sample(data1, data2, utils.difference_in_means)\n",
    "plt.hist(bootstrap_statistics, bins=30, density=True, alpha=0.75)\n",
    "plt.xlabel('Difference in Means')\n",
    "plt.ylabel('Density')\n",
    "plt.title('Bootstrap Distribution of Difference in Means')\n",
    "\n",
    "conf_interval = np.percentile(bootstrap_statistics, [2.5, 97.5])\n",
    "print('95% Confidence Interval:', conf_interval)\n",
    "\n",
    "plt.axvline(x=conf_interval[0], color='red', linestyle='--')\n",
    "plt.axvline(x=conf_interval[1], color='red', linestyle='--')\n",
    "\n",
    "plt.show()\n",
    "\n",
    "observed_difference = utils.difference_in_means(data1, data2)\n",
    "p_value = np.mean(np.abs(bootstrap_statistics) >= np.abs(observed_difference))\n",
    "\n",
    "if p_value < 0.001:\n",
    "    formatted_p_value = '0.000'\n",
    "else:\n",
    "    formatted_p_value = f'{p_value:.3f}'\n",
    "\n",
    "print('Observed Difference in Means:', observed_difference)\n",
    "print('P-value:', formatted_p_value)"
   ]
  },
  {
   "cell_type": "markdown",
   "metadata": {},
   "source": [
    "we therefore conclude theres strong evidence against the null hypothesis and there is a statistically significant difference between the means of both age groups"
   ]
  }
 ],
 "metadata": {
  "kernelspec": {
   "display_name": "base",
   "language": "python",
   "name": "python3"
  },
  "language_info": {
   "codemirror_mode": {
    "name": "ipython",
    "version": 3
   },
   "file_extension": ".py",
   "mimetype": "text/x-python",
   "name": "python",
   "nbconvert_exporter": "python",
   "pygments_lexer": "ipython3",
   "version": "3.11.4"
  }
 },
 "nbformat": 4,
 "nbformat_minor": 2
}
